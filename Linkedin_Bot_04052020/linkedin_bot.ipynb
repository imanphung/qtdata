{
 "cells": [
  {
   "cell_type": "code",
   "execution_count": 9,
   "metadata": {
    "colab": {},
    "colab_type": "code",
    "id": "AA3dlqHSS0vZ"
   },
   "outputs": [],
   "source": [
    "import os, random, sys, time\n",
    "from selenium import webdriver\n",
    "from bs4 import BeautifulSoup\n",
    "import pandas as pd\n",
    "from selenium.common.exceptions import NoSuchElementException"
   ]
  },
  {
   "cell_type": "code",
   "execution_count": 10,
   "metadata": {},
   "outputs": [],
   "source": [
    "file = open('input/login.txt')\n",
    "lines = file.readlines()\n",
    "username = lines[0]\n",
    "password = lines[1]"
   ]
  },
  {
   "cell_type": "code",
   "execution_count": 30,
   "metadata": {
    "colab": {
     "base_uri": "https://localhost:8080/",
     "height": 107
    },
    "colab_type": "code",
    "executionInfo": {
     "elapsed": 749,
     "status": "ok",
     "timestamp": 1583333503022,
     "user": {
      "displayName": "Minh Tran",
      "photoUrl": "https://lh3.googleusercontent.com/a-/AOh14GhV1HWagvBkpB64jpN7WRSLWMpq9BbHb74JcMVN=s64",
      "userId": "06711107161424068434"
     },
     "user_tz": -420
    },
    "id": "d-m-IFg6S0vo",
    "outputId": "9b50024e-6aaf-4b7d-ff88-5630ce56a188"
   },
   "outputs": [
    {
     "name": "stdout",
     "output_type": "stream",
     "text": [
      "Subject: Invitation\n",
      "Messages: This is Henry Duong, Founder of Global QT-Group with the following two advanced competitive features:\n",
      "QT-AI (global TradeMark) improves 30% operational productivity. \n",
      "QT-Invest (global TradeMark) improves 20% financial productivity.\n",
      "Let's connect and have a good collaboration!\n"
     ]
    },
    {
     "data": {
      "text/html": [
       "<div>\n",
       "<style scoped>\n",
       "    .dataframe tbody tr th:only-of-type {\n",
       "        vertical-align: middle;\n",
       "    }\n",
       "\n",
       "    .dataframe tbody tr th {\n",
       "        vertical-align: top;\n",
       "    }\n",
       "\n",
       "    .dataframe thead th {\n",
       "        text-align: right;\n",
       "    }\n",
       "</style>\n",
       "<table border=\"1\" class=\"dataframe\">\n",
       "  <thead>\n",
       "    <tr style=\"text-align: right;\">\n",
       "      <th></th>\n",
       "      <th>name</th>\n",
       "      <th>linkedin_link</th>\n",
       "      <th>facebook_link</th>\n",
       "    </tr>\n",
       "  </thead>\n",
       "  <tbody>\n",
       "    <tr>\n",
       "      <th>0</th>\n",
       "      <td>NaN</td>\n",
       "      <td>https://www.linkedin.com/in/fergalmullen/</td>\n",
       "      <td>NaN</td>\n",
       "    </tr>\n",
       "    <tr>\n",
       "      <th>1</th>\n",
       "      <td>NaN</td>\n",
       "      <td>https://www.linkedin.com/in/forest-baskett-a58...</td>\n",
       "      <td>NaN</td>\n",
       "    </tr>\n",
       "    <tr>\n",
       "      <th>2</th>\n",
       "      <td>NaN</td>\n",
       "      <td>https://www.linkedin.com/in/peter-barris-7a440...</td>\n",
       "      <td>NaN</td>\n",
       "    </tr>\n",
       "  </tbody>\n",
       "</table>\n",
       "</div>"
      ],
      "text/plain": [
       "   name                                      linkedin_link  facebook_link\n",
       "0   NaN          https://www.linkedin.com/in/fergalmullen/            NaN\n",
       "1   NaN  https://www.linkedin.com/in/forest-baskett-a58...            NaN\n",
       "2   NaN  https://www.linkedin.com/in/peter-barris-7a440...            NaN"
      ]
     },
     "execution_count": 30,
     "metadata": {},
     "output_type": "execute_result"
    }
   ],
   "source": [
    "link = 'https://www.linkedin.com/uas/login'\n",
    "file = open('input/messages.txt')\n",
    "customMessage = file.read()\n",
    "file1 = open('input/subject.txt')\n",
    "subject = file1.read()\n",
    "print('Subject: ' + subject)\n",
    "print('Messages: ' + customMessage)\n",
    "data = pd.read_csv(\"input/data.csv\")\n",
    "data[:]"
   ]
  },
  {
   "cell_type": "code",
   "execution_count": 31,
   "metadata": {},
   "outputs": [],
   "source": [
    "def check_exists_class(_class):\n",
    "    try:\n",
    "        browser.find_element_by_class_name(_class)\n",
    "    except NoSuchElementException:\n",
    "        return False\n",
    "    return True"
   ]
  },
  {
   "cell_type": "code",
   "execution_count": 33,
   "metadata": {
    "colab": {
     "base_uri": "https://localhost:8080/",
     "height": 34
    },
    "colab_type": "code",
    "id": "QP0cobFPS0v7",
    "outputId": "fbc88294-b951-4bc2-c424-d208feb6017d",
    "scrolled": true
   },
   "outputs": [
    {
     "name": "stdout",
     "output_type": "stream",
     "text": [
      "Login to Linkedin\n",
      "LinkedinBot: START\n",
      "0\n",
      "https://www.linkedin.com/in/fergalmullen/ : sent\n",
      "LinkedinBot: DONE!\n"
     ]
    }
   ],
   "source": [
    "#Open link on chrome\n",
    "browser = webdriver.Chrome('driver/chromedriver')\n",
    "browser.get(link)\n",
    "time.sleep(random.uniform(3, 7))\n",
    "\n",
    "#Access account\n",
    "elementID = browser.find_element_by_id('username')\n",
    "elementID.send_keys(username)\n",
    "elementID = browser.find_element_by_id('password')\n",
    "elementID.send_keys(password)\n",
    "elementID.submit()\n",
    "# time.sleep(random.uniform(3, 7))\n",
    "print('Login to Linkedin')\n",
    "\n",
    "#Open file visitedUsers \n",
    "visitedUsers = pd.read_csv('output/visited_user.csv')\n",
    "print('LinkedinBot: START')\n",
    "for _,row in data.iterrows():\n",
    "    try:\n",
    "        full_link = row['linkedin_link']\n",
    "        if full_link in visitedUsers.values:\n",
    "            for _,rowVisited in visitedUsers.iterrows():\n",
    "                if rowVisited['link'] in full_link:\n",
    "                    if rowVisited['status'] in 'error':\n",
    "                        print('Error: ', full_link)\n",
    "                    elif rowVisited['status'] in 'done':\n",
    "                        print('Already sent to: ', full_link)\n",
    "                    else:\n",
    "                        print(rowVisited['status'], full_link)\n",
    "                    break\n",
    "        else:\n",
    "            #Send message\n",
    "            browser.get(full_link)\n",
    "            time.sleep(random.uniform(3, 7))\n",
    "\n",
    "            #Connect\n",
    "            checkProfileActions = browser.find_element_by_class_name('pv-s-profile-actions')\n",
    "            if 'pv-s-profile-actions--connect' in checkProfileActions.get_attribute('class').split():\n",
    "                browser.find_element_by_class_name('pv-s-profile-actions--connect').click()\n",
    "                browser.find_element_by_xpath(\"//button[contains(@aria-label, 'Add a note')]\").click()\n",
    "                browser.find_element_by_id('custom-message').send_keys(customMessage)\n",
    "                checkSentButton = browser.find_element_by_class_name('ml1')\n",
    "                if 'artdeco-button--disabled' in checkSentButton.get_attribute('class').split():\n",
    "                    print(0)\n",
    "                    browser.find_element_by_class_name('artdeco-modal__dismiss').click()\n",
    "                    browser.find_element_by_class_name('pv-s-profile-actions--message').click()\n",
    "                    time.sleep(random.uniform(3, 5))\n",
    "                    if True == check_exists_class('msg-form__subject'):\n",
    "                        print(1)\n",
    "                        browser.find_element_by_class_name('msg-form__subject').send_keys(subject)\n",
    "                    if True == check_exists_class('msg-form__contenteditable'):\n",
    "                        print(2)\n",
    "                        browser.find_element_by_class_name('msg-form__contenteditable').send_keys(customMessage)\n",
    "                    time.sleep(random.uniform(2, 3))\n",
    "                    if True == check_exists_class('msg-form__send-button'):\n",
    "                        print(3)\n",
    "                        browser.find_element_by_class_name('msg-form__send-button').click()\n",
    "                else:\n",
    "                    checkSentButton.click()\n",
    "                    \n",
    "            # Follow\n",
    "            elif 'pv-s-profile-actions--follow' in checkProfileActions.get_attribute('class').split():\n",
    "                browser.find_element_by_class_name('pv-s-profile-actions--follow').click()\n",
    "                time.sleep(random.uniform(2, 4))\n",
    "                browser.find_element_by_class_name('pv-s-profile-actions__overflow-toggle').click()\n",
    "                browser.find_element_by_class_name('pv-s-profile-actions--connect').click()\n",
    "                time.sleep(random.uniform(3, 7))\n",
    "                browser.find_element_by_xpath(\"//button[contains(@aria-label, 'Add a note')]\").click()\n",
    "                browser.find_element_by_id('custom-message').send_keys(customMessage)\n",
    "                browser.find_element_by_class_name('ml1').click()\n",
    "\n",
    "            print(full_link, ': sent')\n",
    "            visitedUsers = visitedUsers.append({'link':full_link, 'status':'done'}, ignore_index = True)\n",
    "            visitedUsers.to_csv('output/visited_user.csv',index=False) \n",
    "            # Otherwise, sleep to make sure everything loads\n",
    "            time.sleep(random.uniform(3, 7))\n",
    "            \n",
    "    except: \n",
    "        visitedUsers = visitedUsers.append({'link':full_link, 'status':'error'}, ignore_index = True)\n",
    "        visitedUsers.to_csv('output/visited_user.csv',index=False) \n",
    "        \n",
    "print('LinkedinBot: DONE!')\n",
    "        "
   ]
  },
  {
   "cell_type": "code",
   "execution_count": null,
   "metadata": {},
   "outputs": [],
   "source": []
  },
  {
   "cell_type": "code",
   "execution_count": null,
   "metadata": {},
   "outputs": [],
   "source": []
  }
 ],
 "metadata": {
  "anaconda-cloud": {},
  "colab": {
   "collapsed_sections": [],
   "name": "minhtest_colab_linkedin_bot.ipynb",
   "provenance": [],
   "toc_visible": true
  },
  "kernelspec": {
   "display_name": "Python 3",
   "language": "python",
   "name": "python3"
  },
  "language_info": {
   "codemirror_mode": {
    "name": "ipython",
    "version": 3
   },
   "file_extension": ".py",
   "mimetype": "text/x-python",
   "name": "python",
   "nbconvert_exporter": "python",
   "pygments_lexer": "ipython3",
   "version": "3.7.6"
  }
 },
 "nbformat": 4,
 "nbformat_minor": 1
}
