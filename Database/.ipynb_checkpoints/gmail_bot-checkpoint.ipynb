{
 "cells": [
  {
   "cell_type": "code",
   "execution_count": 18,
   "metadata": {
    "colab": {},
    "colab_type": "code",
    "id": "AA3dlqHSS0vZ"
   },
   "outputs": [],
   "source": [
    "import os, random, sys, time\n",
    "from selenium import webdriver\n",
    "from bs4 import BeautifulSoup\n",
    "import pandas as pd\n",
    "from selenium.common.exceptions import NoSuchElementException"
   ]
  },
  {
   "cell_type": "code",
   "execution_count": 19,
   "metadata": {},
   "outputs": [],
   "source": [
    "file = open('input/login.txt')\n",
    "lines = file.readlines()\n",
    "username = lines[0]\n",
    "password = lines[1]"
   ]
  },
  {
   "cell_type": "code",
   "execution_count": 20,
   "metadata": {
    "colab": {
     "base_uri": "https://localhost:8080/",
     "height": 107
    },
    "colab_type": "code",
    "executionInfo": {
     "elapsed": 749,
     "status": "ok",
     "timestamp": 1583333503022,
     "user": {
      "displayName": "Minh Tran",
      "photoUrl": "https://lh3.googleusercontent.com/a-/AOh14GhV1HWagvBkpB64jpN7WRSLWMpq9BbHb74JcMVN=s64",
      "userId": "06711107161424068434"
     },
     "user_tz": -420
    },
    "id": "d-m-IFg6S0vo",
    "outputId": "9b50024e-6aaf-4b7d-ff88-5630ce56a188"
   },
   "outputs": [
    {
     "name": "stdout",
     "output_type": "stream",
     "text": [
      "Subject: Test Subject @customer\n",
      "Messages: Test Messages @customer\n"
     ]
    },
    {
     "data": {
      "text/html": [
       "<div>\n",
       "<style scoped>\n",
       "    .dataframe tbody tr th:only-of-type {\n",
       "        vertical-align: middle;\n",
       "    }\n",
       "\n",
       "    .dataframe tbody tr th {\n",
       "        vertical-align: top;\n",
       "    }\n",
       "\n",
       "    .dataframe thead th {\n",
       "        text-align: right;\n",
       "    }\n",
       "</style>\n",
       "<table border=\"1\" class=\"dataframe\">\n",
       "  <thead>\n",
       "    <tr style=\"text-align: right;\">\n",
       "      <th></th>\n",
       "      <th>name</th>\n",
       "      <th>email_adress</th>\n",
       "    </tr>\n",
       "  </thead>\n",
       "  <tbody>\n",
       "    <tr>\n",
       "      <th>0</th>\n",
       "      <td>Thao</td>\n",
       "      <td>thaoluong1111@gmail.com</td>\n",
       "    </tr>\n",
       "    <tr>\n",
       "      <th>1</th>\n",
       "      <td>Thaoluong</td>\n",
       "      <td>thaoluong1231@gmail.com</td>\n",
       "    </tr>\n",
       "  </tbody>\n",
       "</table>\n",
       "</div>"
      ],
      "text/plain": [
       "        name             email_adress\n",
       "0       Thao  thaoluong1111@gmail.com\n",
       "1  Thaoluong  thaoluong1231@gmail.com"
      ]
     },
     "execution_count": 20,
     "metadata": {},
     "output_type": "execute_result"
    }
   ],
   "source": [
    "linkStackOverFlow = 'https://stackoverflow.com/users/signup?ssrc=head&returnurl=%2fusers%2fstory%2fcurrent%27'\n",
    "linkGmail = 'https://mail.google.com/mail/'\n",
    "file = open('input/messages.txt')\n",
    "message = file.read()\n",
    "file1 = open('input/subject.txt')\n",
    "subject = file1.read()\n",
    "print('Subject: ' + subject)\n",
    "print('Messages: ' + message)\n",
    "data = pd.read_csv(\"input/data.csv\")\n",
    "data[:]"
   ]
  },
  {
   "cell_type": "code",
   "execution_count": 21,
   "metadata": {},
   "outputs": [],
   "source": [
    "def check_exists_by_class(_class):\n",
    "    try:\n",
    "        browser.find_element_by_class_name(_class)\n",
    "    except NoSuchElementException:\n",
    "        return False\n",
    "    return True\n",
    "\n",
    "def check_exists_by_path(_path):\n",
    "    try:\n",
    "        browser.find_element_by_xpath(_path)\n",
    "    except NoSuchElementException:\n",
    "        return False\n",
    "    return True\n",
    "\n",
    "def custom_subject(subject, name):\n",
    "    return subject.replace('@customer', name)\n",
    "    \n",
    "def custom_message(message, name):\n",
    "    return message.replace('@customer', name)"
   ]
  },
  {
   "cell_type": "code",
   "execution_count": 22,
   "metadata": {
    "scrolled": true
   },
   "outputs": [
    {
     "name": "stdout",
     "output_type": "stream",
     "text": [
      "https://mail.google.com/mail/\n",
      "Start Gmail_bot\n",
      "Login to Gmail\n",
      "Already sent to:  thaoluong1111@gmail.com\n",
      "Already sent to:  thaoluong1231@gmail.com\n",
      "End Gmail_bot\n"
     ]
    }
   ],
   "source": [
    "#Open link on chrome\n",
    "browser = webdriver.Chrome('driver/chromedriver.exe')\n",
    "#Access account\n",
    "browser.get(linkStackOverFlow)\n",
    "time.sleep(random.uniform(3, 5))\n",
    "browser.find_element_by_xpath('//*[@id=\"openid-buttons\"]/button[1]').click()\n",
    "time.sleep(2)\n",
    "browser.find_element_by_xpath('//input[@type=\"email\"]').send_keys(username)\n",
    "\n",
    "time.sleep(2)\n",
    "browser.find_element_by_xpath('//input[@type=\"password\"]').send_keys(password)\n",
    "browser.find_element_by_id('passwordNext').click()\n",
    "time.sleep(2)\n",
    "browser.get(linkGmail)\n",
    "print(linkGmail)\n",
    "time.sleep(3)\n",
    "print('Start Gmail_bot')\n",
    "print('Login to Gmail')\n",
    "#browser.find_element_by_xpath(\"//div[@data-tooltip='Sent']\").click()\n",
    "visitedUsers = pd.read_csv('output/visited_user.csv')\n",
    "for _,rows in data.iterrows():\n",
    "    try:\n",
    "        email_address = rows['email_adress']\n",
    "        name = rows['name']\n",
    "        if email_address in visitedUsers.values:\n",
    "            print('Already sent to: ', email_address)\n",
    "        else:\n",
    "            time.sleep(random.uniform(3, 5))\n",
    "            subject = custom_subject(subject,name)\n",
    "            message = custom_message(message,name)\n",
    "            browser.find_element_by_xpath(\"//div[text()='Compose']\").click()\n",
    "            time.sleep(2)\n",
    "            browser.find_element_by_xpath('//textarea[@rows=\"1\"]').send_keys(email_address)\n",
    "            browser.find_element_by_xpath('//input[@name=\"subjectbox\"]').send_keys(subject)\n",
    "            browser.find_element_by_xpath('//div[@aria-label=\"Message Body\"]').send_keys(message)\n",
    "            browser.find_element_by_xpath(\"//div[text()='Send']\").click()\n",
    "            print('sent',email_address)\n",
    "            visitedUsers = visitedUsers.append({'email_address':email_address, 'status':'done'}, ignore_index = True)\n",
    "            visitedUsers.to_csv('output/visited_user.csv',index=False) \n",
    "            time.sleep(3)\n",
    "    except:\n",
    "        print('error: ',email_address)\n",
    "        visitedUsers = visitedUsers.append({'email_address':email_address, 'status':'error'}, ignore_index = True)\n",
    "        visitedUsers.to_csv('output/visited_user.csv',index=False) \n",
    "\n",
    "print('End Gmail_bot')\n"
   ]
  },
  {
   "cell_type": "code",
   "execution_count": null,
   "metadata": {},
   "outputs": [],
   "source": []
  }
 ],
 "metadata": {
  "anaconda-cloud": {},
  "colab": {
   "collapsed_sections": [],
   "name": "minhtest_colab_linkedin_bot.ipynb",
   "provenance": [],
   "toc_visible": true
  },
  "kernelspec": {
   "display_name": "Python 3",
   "language": "python",
   "name": "python3"
  },
  "language_info": {
   "codemirror_mode": {
    "name": "ipython",
    "version": 3
   },
   "file_extension": ".py",
   "mimetype": "text/x-python",
   "name": "python",
   "nbconvert_exporter": "python",
   "pygments_lexer": "ipython3",
   "version": "3.8.2"
  }
 },
 "nbformat": 4,
 "nbformat_minor": 1
}
