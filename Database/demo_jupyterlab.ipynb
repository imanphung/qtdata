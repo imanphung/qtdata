{
 "cells": [
  {
   "cell_type": "code",
   "execution_count": 1,
   "metadata": {
    "jupyter": {
     "outputs_hidden": false
    }
   },
   "outputs": [],
   "source": [
    "import dash\n",
    "import dash_daq as daq\n",
    "import dash_html_components as html\n",
    "import dash_core_components as dcc\n",
    "from dash.dependencies import Input, Output, State\n",
    "import dash_table as dt\n",
    "import pandas as pd\n",
    "import json\n",
    "\n",
    "import tempo"
   ]
  },
  {
   "cell_type": "code",
   "execution_count": 2,
   "metadata": {},
   "outputs": [],
   "source": [
    "# import pyscreenshot as ImageGrab\n",
    "# from PIL import Image\n",
    "# import cv2\n",
    "# import base64\n",
    "# from io import BytesIO\n",
    "\n",
    "##Save screen and frame\n",
    "#screen_before2.save('a.jpg')\n",
    "#cv2.imwrite('b.jpg', frame_before2)"
   ]
  },
  {
   "cell_type": "code",
   "execution_count": 3,
   "metadata": {
    "jupyter": {
     "outputs_hidden": true
    }
   },
   "outputs": [],
   "source": [
    "external_stylesheets = ['https://codepen.io/chriddyp/pen/bWLwgP.css']\n",
    "\n",
    "app = dash.Dash(__name__, external_stylesheets = external_stylesheets)\n",
    "app.layout = html.Div([\n",
    "                 html.H1(children = 'Tempo Demo'),\n",
    "                 html.Div(dcc.Input(id = 'input_name', type = 'text')),\n",
    "                 html.Div(id = 'text_name', children = 'Enter your name and time to test in seconds.', style = {'padding': 10}),\n",
    "                 \n",
    "                 html.Div([\n",
    "                     html.Div(children='Time Step', style={'width': 100, 'display': 'inline-block'}),\n",
    "                     html.Div(dcc.Input(id = 'input_timestep', type = 'number'), style={'display': 'inline-block'}),\n",
    "                     html.Div(children='Total Time', style={'width': 100, 'display': 'inline-block'}),\n",
    "                     html.Div(dcc.Input(id = 'input_totaltime', type = 'number'), style={'display': 'inline-block'}),\n",
    "                     ], style = {'margin-bottom': 10}),\n",
    "                           \n",
    "                 daq.BooleanSwitch(id = 'bswitch_start', on = False, color =' #8ed62f', disabled = True,\n",
    "                                   label = ['OFF', 'ON'], style = {'width': '50px', 'margin': 'auto'}),\n",
    "                 html.H2(children='Report'),\n",
    "                 html.Div(\n",
    "                     dt.DataTable(id = 'dtable_time',\n",
    "                         columns = [{'name': i, 'id': i} for i in ['Working Time', 'Free Time']]),\n",
    "                         style = {'display': 'inline-block'}),\n",
    "                 html.H2(children = 'Detail'),\n",
    "                 dcc.Dropdown(id = 'ddown_detail', style = {'width': '500px', 'display': 'inline-block'}),\n",
    "                 html.Div(id = 'text_note', style = {'padding': 10}),\n",
    "                 html.Div([\n",
    "                     html.Div(style={'width': '30%', 'display': 'inline-block'}),\n",
    "                     html.Div([\n",
    "                         html.H3(children = 'Before'),\n",
    "                         html.Img(id='image_before', style={'height':'90%', 'width':'90%', 'border': '2px black solid'})\n",
    "                              ], style={'width': '20%', 'display': 'inline-block'}),\n",
    "                     html.Div([\n",
    "                         html.H3(children = 'After'),\n",
    "                         html.Img(id='image_after', style={'height':'90%', 'width':'90%', 'border': '2px black solid'})\n",
    "                              ], style={'width': '20%', 'display': 'inline-block'}),\n",
    "                     html.Div(style={'width': '30%', 'display': 'inline-block'}),\n",
    "                     ]),\n",
    "         \n",
    "                 # Hidden div inside the app that stores the intermediate value\n",
    "                 html.Div(id = 'json_report', style = {'display': 'none'}),\n",
    "                                      \n",
    "                      ], style = {'textAlign': 'center'})\n",
    "\n",
    "                     \n",
    "@app.callback(Output('bswitch_start', 'disabled'),\n",
    "              [Input('input_name', 'value')])\n",
    "def update_start(value):\n",
    "    if value is None or len(value) == 0:\n",
    "        return True\n",
    "    else:\n",
    "        return False\n",
    "                     \n",
    "\n",
    "@app.callback([Output('text_name', 'children'), Output('input_name', 'disabled')],\n",
    "              [Input('bswitch_start', 'on')],\n",
    "              [State('input_name', 'value')])\n",
    "def update_name(on, value):\n",
    "    if value is None or len(value) == 0:\n",
    "        return 'Enter your name and time to test in seconds.', False\n",
    "    else:\n",
    "        if on is True:\n",
    "            return 'Hi {}. Tempo is ON.'.format(value), True\n",
    "        else:\n",
    "            return 'Goodbye {}. Tempo is OFF.'.format(value), False\n",
    "\n",
    "\n",
    "@app.callback(Output('json_report', 'children'),\n",
    "              [Input('bswitch_start', 'on')],\n",
    "              [State('input_name', 'value'), State('input_timestep', 'value'), State('input_totaltime', 'value')])\n",
    "def run_tempo(on, value_name, value_timestep, value_totaltime):\n",
    "    report_dict = {}\n",
    "\n",
    "    if on is True and (value_name is not None and len(value_name) > 0):\n",
    "        if value_totaltime is not None and value_timestep is not None:\n",
    "            if value_totaltime >= value_timestep:\n",
    "                time_report_df, detail_report_df = tempo.check_workingtime(value_totaltime, value_timestep)\n",
    "                report_dict = {\n",
    "                    'time_report_df': time_report_df.to_json(orient = 'split', date_format = 'iso'),\n",
    "                    'detail_report_df': detail_report_df.to_json(orient = 'split', date_format = 'iso'),\n",
    "                      }\n",
    "                      \n",
    "    return json.dumps(report_dict)\n",
    "        \n",
    "\n",
    "@app.callback(Output('dtable_time', 'data'),\n",
    "              [Input('json_report', 'children')])\n",
    "def update_time(children):\n",
    "    time_report_df = pd.DataFrame()\n",
    "    report_dict = json.loads(children)\n",
    "    \n",
    "    if len(report_dict) > 0:\n",
    "        time_report_df = pd.read_json(report_dict['time_report_df'], orient = 'split')\n",
    "    \n",
    "    return time_report_df.to_dict('records')\n",
    "\n",
    "    \n",
    "@app.callback([Output('ddown_detail', 'options'), Output('ddown_detail', 'value')],\n",
    "              [Input('json_report', 'children')])\n",
    "def update_dropdown(children):\n",
    "    options = []\n",
    "    value = None\n",
    "    report_dict = json.loads(children)\n",
    "    \n",
    "    if len(report_dict) > 0:\n",
    "        time_report_df = pd.read_json(report_dict['time_report_df'], orient = 'split')\n",
    "        if time_report_df.loc[0,'Free Time'] != '0:00:00':\n",
    "            detail_report_df = pd.read_json(report_dict['detail_report_df'], orient = 'split')\n",
    "            options = [{'label': i, 'value': i} for i in detail_report_df['Time']]\n",
    "            value = detail_report_df['Time'].values[0]\n",
    "    \n",
    "    return options, value\n",
    "\n",
    "\n",
    "@app.callback(Output('text_note', 'children'),\n",
    "              [Input('json_report', 'children'), Input('ddown_detail', 'value')])\n",
    "def update_note(children, value):\n",
    "    note = None\n",
    "    report_dict = json.loads(children)\n",
    "    \n",
    "    if len(report_dict) > 0:\n",
    "        detail_report_df = pd.read_json(report_dict['detail_report_df'], orient = 'split')\n",
    "        if value is not None:\n",
    "            note = detail_report_df.loc[detail_report_df['Time'] == value, 'Note'].values[0]\n",
    "\n",
    "    return note   \n",
    "    \n",
    "        \n",
    "@app.callback([Output('image_before', 'src'), Output('image_after', 'src')],\n",
    "              [Input('json_report', 'children'), Input('ddown_detail', 'value')])\n",
    "def update_image_src(children, value):\n",
    "    image_before_b64 = None\n",
    "    image_after_b64 = None\n",
    "    report_dict = json.loads(children)\n",
    "    \n",
    "    if len(report_dict) > 0:\n",
    "        detail_report_df = pd.read_json(report_dict['detail_report_df'], orient = 'split')\n",
    "        if value is not None:\n",
    "            image_before_b64 = detail_report_df.loc[detail_report_df['Time'] == value, 'Image_Before'].values[0]\n",
    "            image_after_b64 = detail_report_df.loc[detail_report_df['Time'] == value, 'Image_After'].values[0]\n",
    "\n",
    "    return 'data:image/png;base64,{}'.format(image_before_b64), 'data:image/png;base64,{}'.format(image_after_b64)"
   ]
  },
  {
   "cell_type": "code",
   "execution_count": null,
   "metadata": {
    "jupyter": {
     "outputs_hidden": false
    }
   },
   "outputs": [
    {
     "name": "stdout",
     "output_type": "stream",
     "text": [
      "Running on http://127.0.0.1:8050/\n",
      "Debugger PIN: 938-323-229\n",
      " * Serving Flask app \"__main__\" (lazy loading)\n",
      " * Environment: production\n",
      "   WARNING: This is a development server. Do not use it in a production deployment.\n",
      "   Use a production WSGI server instead.\n",
      " * Debug mode: on\n"
     ]
    }
   ],
   "source": [
    "app.run_server(debug=True, use_reloader=False) "
   ]
  },
  {
   "cell_type": "code",
   "execution_count": null,
   "metadata": {
    "jupyter": {
     "outputs_hidden": true
    }
   },
   "outputs": [],
   "source": [
    "from sqlalchemy.engine import create_engine\n",
    "\n",
    "db_name = 'qt_tempomonitor'\n",
    "DIALECT = 'oracle'\n",
    "SQL_DRIVER = 'cx_oracle'\n",
    "USERNAME = 'DEV' #enter your username\n",
    "PASSWORD = 'qtdata@2021' #enter your password\n",
    "HOST = '118.69.32.128' #enter the oracle db host url\n",
    "PORT = 1521 #enter the oracle port number\n",
    "SERVICE = 'XE' #enter the oracle db service name\n",
    "engine_str = DIALECT + '+' + SQL_DRIVER + '://' + USERNAME + ':' + PASSWORD +'@' + HOST + \\\n",
    "                       ':' + str(PORT) + '/?service_name=' + SERVICE\n",
    "\n",
    "engine = create_engine(engine_str, max_identifier_length = 128)\n",
    "#Read SQL query or database table into a DataFrame\n",
    "df = pd.read_sql('SELECT * FROM {}'.format(db_name), engine)"
   ]
  },
  {
   "cell_type": "code",
   "execution_count": null,
   "metadata": {},
   "outputs": [],
   "source": []
  },
  {
   "cell_type": "code",
   "execution_count": null,
   "metadata": {},
   "outputs": [],
   "source": []
  }
 ],
 "metadata": {
  "anaconda-cloud": {},
  "kernelspec": {
   "display_name": "py37",
   "language": "python",
   "name": "myenv"
  },
  "language_info": {
   "codemirror_mode": {
    "name": "ipython",
    "version": 3
   },
   "file_extension": ".py",
   "mimetype": "text/x-python",
   "name": "python",
   "nbconvert_exporter": "python",
   "pygments_lexer": "ipython3",
   "version": "3.7.0"
  }
 },
 "nbformat": 4,
 "nbformat_minor": 4
}
