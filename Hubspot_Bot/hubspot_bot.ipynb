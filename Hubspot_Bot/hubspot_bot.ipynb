{
 "cells": [
  {
   "cell_type": "code",
   "execution_count": 1,
   "metadata": {
    "colab": {},
    "colab_type": "code",
    "id": "AA3dlqHSS0vZ"
   },
   "outputs": [],
   "source": [
    "import os, random, sys, time\n",
    "from selenium import webdriver\n",
    "from bs4 import BeautifulSoup\n",
    "import pandas as pd\n",
    "from selenium.common.exceptions import NoSuchElementException\n",
    "from selenium.webdriver.common.keys import Keys"
   ]
  },
  {
   "cell_type": "code",
   "execution_count": 2,
   "metadata": {},
   "outputs": [],
   "source": [
    "file = open('input/login.txt')\n",
    "lines = file.readlines()\n",
    "username = lines[0]\n",
    "password = lines[1]"
   ]
  },
  {
   "cell_type": "code",
   "execution_count": 3,
   "metadata": {
    "colab": {
     "base_uri": "https://localhost:8080/",
     "height": 107
    },
    "colab_type": "code",
    "executionInfo": {
     "elapsed": 749,
     "status": "ok",
     "timestamp": 1583333503022,
     "user": {
      "displayName": "Minh Tran",
      "photoUrl": "https://lh3.googleusercontent.com/a-/AOh14GhV1HWagvBkpB64jpN7WRSLWMpq9BbHb74JcMVN=s64",
      "userId": "06711107161424068434"
     },
     "user_tz": -420
    },
    "id": "d-m-IFg6S0vo",
    "outputId": "9b50024e-6aaf-4b7d-ff88-5630ce56a188"
   },
   "outputs": [
    {
     "name": "stdout",
     "output_type": "stream",
     "text": [
      "Subject: Test Subject @customer\n",
      "Messages: Test Messages @customer\n"
     ]
    },
    {
     "data": {
      "text/html": [
       "<div>\n",
       "<style scoped>\n",
       "    .dataframe tbody tr th:only-of-type {\n",
       "        vertical-align: middle;\n",
       "    }\n",
       "\n",
       "    .dataframe tbody tr th {\n",
       "        vertical-align: top;\n",
       "    }\n",
       "\n",
       "    .dataframe thead th {\n",
       "        text-align: right;\n",
       "    }\n",
       "</style>\n",
       "<table border=\"1\" class=\"dataframe\">\n",
       "  <thead>\n",
       "    <tr style=\"text-align: right;\">\n",
       "      <th></th>\n",
       "      <th>name</th>\n",
       "      <th>email_adress</th>\n",
       "    </tr>\n",
       "  </thead>\n",
       "  <tbody>\n",
       "    <tr>\n",
       "      <th>0</th>\n",
       "      <td>Test1</td>\n",
       "      <td>test1@gmail.com</td>\n",
       "    </tr>\n",
       "    <tr>\n",
       "      <th>1</th>\n",
       "      <td>Test2</td>\n",
       "      <td>test2@gmail.com</td>\n",
       "    </tr>\n",
       "  </tbody>\n",
       "</table>\n",
       "</div>"
      ],
      "text/plain": [
       "    name     email_adress\n",
       "0  Test1  test1@gmail.com\n",
       "1  Test2  test2@gmail.com"
      ]
     },
     "execution_count": 3,
     "metadata": {},
     "output_type": "execute_result"
    }
   ],
   "source": [
    "link = 'https://app.hubspot.com/live-messages/'\n",
    "file = open('input/messages.txt')\n",
    "message = file.read()\n",
    "file1 = open('input/subject.txt')\n",
    "subject = file1.read()\n",
    "print('Subject: ' + subject)\n",
    "print('Messages: ' + message)\n",
    "data = pd.read_csv(\"input/data.csv\")\n",
    "data[:]"
   ]
  },
  {
   "cell_type": "code",
   "execution_count": 10,
   "metadata": {},
   "outputs": [],
   "source": [
    "def check_exists_by_class(_class):\n",
    "    try:\n",
    "        browser.find_element_by_class_name(_class)\n",
    "    except NoSuchElementException:\n",
    "        return False\n",
    "    return True\n",
    "\n",
    "def check_exists_by_path(_path):\n",
    "    try:\n",
    "        browser.find_element_by_xpath(_path)\n",
    "    except NoSuchElementException:\n",
    "        return False\n",
    "    return True\n",
    "\n",
    "def custom_subject(subject, name):\n",
    "    return subject.replace('@customer', name)\n",
    "    \n",
    "def custom_message(message, name):\n",
    "    return message.replace('@customer', name)"
   ]
  },
  {
   "cell_type": "code",
   "execution_count": 16,
   "metadata": {
    "scrolled": true
   },
   "outputs": [
    {
     "name": "stdout",
     "output_type": "stream",
     "text": [
      "Sent to: test1@gmail.com\n",
      "Sent to: test1@gmail.comSent to: test2@gmail.com\n"
     ]
    }
   ],
   "source": [
    "import os, random, sys, time\n",
    "from selenium import webdriver\n",
    "import pandas as pd\n",
    "from selenium.common.exceptions import NoSuchElementException\n",
    "from selenium.webdriver.common.keys import Keys\n",
    "\n",
    "log = ''\n",
    "\n",
    "#login hubspot\n",
    "file = open('input/login.txt')\n",
    "lines = file.readlines()\n",
    "username = lines[0]\n",
    "password = lines[1]\n",
    "\n",
    "# read data\n",
    "file = open('input/messages.txt')\n",
    "message = file.read()\n",
    "file1 = open('input/subject.txt')\n",
    "subject = file1.read()\n",
    "data = pd.read_csv(\"input/data.csv\")\n",
    "\n",
    "#Open link on chrome\n",
    "browser = webdriver.Chrome('driver/chromedriver')\n",
    "#Access account\n",
    "hubspot_link = 'https://app.hubspot.com/live-messages/'\n",
    "browser.get(hubspot_link)\n",
    "time.sleep(7)\n",
    "browser.find_element_by_id('username').send_keys(username)\n",
    "browser.find_element_by_id('password').send_keys(password)\n",
    "browser.find_element_by_xpath('//button[@type=\"submit\"]').click()\n",
    "time.sleep(random.uniform(5, 7))\n",
    "browser.find_element_by_class_name('CollapsableSidebarHeaderDeadZone-p4vqop-0').click()\n",
    "visitedUsers = pd.read_csv('output/visited_user.csv')\n",
    "for _,rows in data.iterrows():\n",
    "    try:\n",
    "        email_address = rows['email_adress']\n",
    "        name = rows['name']\n",
    "        if email_address in visitedUsers.values:\n",
    "            log += \"Already sent to: {}\".format(email_address)\n",
    "        else:\n",
    "            browser.find_element_by_xpath('//button[@data-test-id=\"compose-email-button\"]').click()\n",
    "            time.sleep(random.uniform(3, 4))\n",
    "            subjectCustom = custom_subject(subject,name)\n",
    "            messageCustom = custom_message(message,name)\n",
    "            element = browser.find_element_by_xpath('//span[contains(@class, \"Select-multi-value-wrapper\")]/div[2]/input')\n",
    "            element.send_keys(email_address)\n",
    "            time.sleep(2)\n",
    "            element.send_keys(Keys.ENTER)\n",
    "            browser.find_element_by_xpath('//input[@data-selenium-test=\"email-subject-input\"]').send_keys(subjectCustom)\n",
    "            browser.find_element_by_xpath('//div[contains(@class, \"rich-text-editor-input\")]/div/div[1]/div/div/div/div/div').send_keys(messageCustom)\n",
    "            time.sleep(1)\n",
    "            browser.find_element_by_xpath('//button[contains(@data-selenium-test, \"rich-text-editor-controls__save-btn\")]').click()\n",
    "            log += \"Sent to: {}\".format(email_address)\n",
    "            visitedUsers = visitedUsers.append({'email_address':email_address, 'status':'sent'}, ignore_index = True)\n",
    "            visitedUsers.to_csv('output/visited_user.csv',index=False) \n",
    "            time.sleep(3)\n",
    "    except:\n",
    "        log += \"Error sent to: {}\".format(email_address)\n",
    "        visitedUsers = visitedUsers.append({'email_address':email_address, 'status':'error'}, ignore_index = True)\n",
    "        visitedUsers.to_csv('output/visited_user.csv',index=False) \n",
    "    print(log)\n"
   ]
  },
  {
   "cell_type": "code",
   "execution_count": null,
   "metadata": {},
   "outputs": [],
   "source": []
  },
  {
   "cell_type": "code",
   "execution_count": null,
   "metadata": {},
   "outputs": [],
   "source": []
  }
 ],
 "metadata": {
  "anaconda-cloud": {},
  "colab": {
   "collapsed_sections": [],
   "name": "minhtest_colab_linkedin_bot.ipynb",
   "provenance": [],
   "toc_visible": true
  },
  "kernelspec": {
   "display_name": "Python 3",
   "language": "python",
   "name": "python3"
  },
  "language_info": {
   "codemirror_mode": {
    "name": "ipython",
    "version": 3
   },
   "file_extension": ".py",
   "mimetype": "text/x-python",
   "name": "python",
   "nbconvert_exporter": "python",
   "pygments_lexer": "ipython3",
   "version": "3.7.6"
  }
 },
 "nbformat": 4,
 "nbformat_minor": 1
}
